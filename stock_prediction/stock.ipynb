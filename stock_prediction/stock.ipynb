{
 "cells": [
  {
   "cell_type": "code",
   "execution_count": 1,
   "metadata": {},
   "outputs": [],
   "source": [
    "import pandas as pd"
   ]
  },
  {
   "cell_type": "code",
   "execution_count": 2,
   "metadata": {},
   "outputs": [],
   "source": [
    "df=pd.read_csv(\"../NVDA.csv\")"
   ]
  },
  {
   "cell_type": "code",
   "execution_count": 3,
   "metadata": {},
   "outputs": [
    {
     "data": {
      "text/html": [
       "<div>\n",
       "<style scoped>\n",
       "    .dataframe tbody tr th:only-of-type {\n",
       "        vertical-align: middle;\n",
       "    }\n",
       "\n",
       "    .dataframe tbody tr th {\n",
       "        vertical-align: top;\n",
       "    }\n",
       "\n",
       "    .dataframe thead th {\n",
       "        text-align: right;\n",
       "    }\n",
       "</style>\n",
       "<table border=\"1\" class=\"dataframe\">\n",
       "  <thead>\n",
       "    <tr style=\"text-align: right;\">\n",
       "      <th></th>\n",
       "      <th>Date</th>\n",
       "      <th>Open</th>\n",
       "      <th>High</th>\n",
       "      <th>Low</th>\n",
       "      <th>Close</th>\n",
       "      <th>Adj Close</th>\n",
       "      <th>Volume</th>\n",
       "    </tr>\n",
       "  </thead>\n",
       "  <tbody>\n",
       "    <tr>\n",
       "      <th>0</th>\n",
       "      <td>2022/7/1</td>\n",
       "      <td>14.899</td>\n",
       "      <td>15.063000</td>\n",
       "      <td>14.392</td>\n",
       "      <td>14.523</td>\n",
       "      <td>14.506663</td>\n",
       "      <td>577610000.0</td>\n",
       "    </tr>\n",
       "    <tr>\n",
       "      <th>1</th>\n",
       "      <td>2022/7/5</td>\n",
       "      <td>14.175</td>\n",
       "      <td>14.971000</td>\n",
       "      <td>14.055</td>\n",
       "      <td>14.964</td>\n",
       "      <td>14.947166</td>\n",
       "      <td>651397000.0</td>\n",
       "    </tr>\n",
       "    <tr>\n",
       "      <th>2</th>\n",
       "      <td>2022/7/6</td>\n",
       "      <td>15.010</td>\n",
       "      <td>15.319000</td>\n",
       "      <td>14.789</td>\n",
       "      <td>15.130</td>\n",
       "      <td>15.112980</td>\n",
       "      <td>529066000.0</td>\n",
       "    </tr>\n",
       "    <tr>\n",
       "      <th>3</th>\n",
       "      <td>2022/7/7</td>\n",
       "      <td>15.456</td>\n",
       "      <td>15.945000</td>\n",
       "      <td>15.389</td>\n",
       "      <td>15.858</td>\n",
       "      <td>15.840160</td>\n",
       "      <td>492903000.0</td>\n",
       "    </tr>\n",
       "    <tr>\n",
       "      <th>4</th>\n",
       "      <td>2022/7/8</td>\n",
       "      <td>15.430</td>\n",
       "      <td>16.037001</td>\n",
       "      <td>15.389</td>\n",
       "      <td>15.838</td>\n",
       "      <td>15.820185</td>\n",
       "      <td>467972000.0</td>\n",
       "    </tr>\n",
       "  </tbody>\n",
       "</table>\n",
       "</div>"
      ],
      "text/plain": [
       "       Date    Open       High     Low   Close  Adj Close       Volume\n",
       "0  2022/7/1  14.899  15.063000  14.392  14.523  14.506663  577610000.0\n",
       "1  2022/7/5  14.175  14.971000  14.055  14.964  14.947166  651397000.0\n",
       "2  2022/7/6  15.010  15.319000  14.789  15.130  15.112980  529066000.0\n",
       "3  2022/7/7  15.456  15.945000  15.389  15.858  15.840160  492903000.0\n",
       "4  2022/7/8  15.430  16.037001  15.389  15.838  15.820185  467972000.0"
      ]
     },
     "execution_count": 3,
     "metadata": {},
     "output_type": "execute_result"
    }
   ],
   "source": [
    "df.head()"
   ]
  },
  {
   "cell_type": "code",
   "execution_count": null,
   "metadata": {},
   "outputs": [],
   "source": []
  }
 ],
 "metadata": {
  "kernelspec": {
   "display_name": "base",
   "language": "python",
   "name": "python3"
  },
  "language_info": {
   "codemirror_mode": {
    "name": "ipython",
    "version": 3
   },
   "file_extension": ".py",
   "mimetype": "text/x-python",
   "name": "python",
   "nbconvert_exporter": "python",
   "pygments_lexer": "ipython3",
   "version": "3.12.4"
  }
 },
 "nbformat": 4,
 "nbformat_minor": 2
}
